{
  "cells": [
    {
      "cell_type": "markdown",
      "metadata": {
        "id": "44dZG44iQTbQ"
      },
      "source": [
        "## Statistical Computing - Capstone Project\n",
        "\n",
        "### Data-Preparation aka Vorbereitung und Bereinigung der Daten\n",
        "\n",
        "<div align=\"left\">\n",
        "<h2><img src=\"https://media.giphy.com/media/4FQMuOKR6zQRO/giphy.gif\" width=\"200\" alt=\"Data\"></h2>\n",
        "</div>\n",
        "\n",
        "☑️ In diesem Notebook werden die Datensätze zur Analyse vorbereitet.\n",
        "\n",
        "☑️ Die eigentliche Analyse passiert hier:  [Analyse](./Data-Analysis.ipynb)\n",
        "\n",
        "☑️ Dieses Projekt wurde mit dem Anaconda3 Python-Kernel entwickelt.\n",
        "\n"
      ]
    },
    {
      "cell_type": "markdown",
      "metadata": {
        "id": "XQZWkqdN6PR7"
      },
      "source": [
        "### ▶️ Zum Start klonen wird das Github-Repository in unsere IDE"
      ]
    },
    {
      "cell_type": "code",
      "execution_count": 1,
      "metadata": {
        "colab": {
          "base_uri": "https://localhost:8080/"
        },
        "id": "lERCtA9K5wBW",
        "outputId": "5b9cc7ce-37f2-47eb-a1c6-a7a5cc6f4bd1"
      },
      "outputs": [
        {
          "name": "stdout",
          "output_type": "stream",
          "text": [
            "Klone nach 'Statistical-Computing' …\n",
            "remote: Enumerating objects: 48, done.\u001b[K\n",
            "remote: Counting objects: 100% (48/48), done.\u001b[K\n",
            "remote: Compressing objects: 100% (46/46), done.\u001b[K\n",
            "remote: Total 48 (delta 13), reused 0 (delta 0), pack-reused 0\u001b[K\n",
            "Empfange Objekte: 100% (48/48), 1.05 MiB | 2.63 MiB/s, fertig.\n",
            "Löse Unterschiede auf: 100% (13/13), fertig.\n"
          ]
        }
      ],
      "source": [
        "!git clone https://github.com/Gizmo-Labs/Statistical-Computing.git"
      ]
    },
    {
      "cell_type": "markdown",
      "metadata": {},
      "source": [
        "### ▶️ Importieren von einigen Python-Bibliotheken"
      ]
    },
    {
      "cell_type": "code",
      "execution_count": 1,
      "metadata": {
        "id": "qNjJFQ0Y_qRl"
      },
      "outputs": [],
      "source": [
        "import pandas as pd"
      ]
    },
    {
      "cell_type": "markdown",
      "metadata": {},
      "source": [
        "### ▶️ Einlesen der Klima-Daten vom CDC-Portal des DWD\n",
        "\n",
        "- Dieser Vorgang kann bis zu 1 Minute dauern! Der Datensatz enthält **ALLE** Wetterstationen Deutschlands\n",
        "- Aufgrund der Limitierung der Datengrösse bei Github liegen die Dateien auf einem Google Drive"
      ]
    },
    {
      "cell_type": "code",
      "execution_count": 2,
      "metadata": {
        "id": "US2Lj9nc_MkG"
      },
      "outputs": [
        {
          "data": {
            "text/html": [
              "<div>\n",
              "<style scoped>\n",
              "    .dataframe tbody tr th:only-of-type {\n",
              "        vertical-align: middle;\n",
              "    }\n",
              "\n",
              "    .dataframe tbody tr th {\n",
              "        vertical-align: top;\n",
              "    }\n",
              "\n",
              "    .dataframe thead th {\n",
              "        text-align: right;\n",
              "    }\n",
              "</style>\n",
              "<table border=\"1\" class=\"dataframe\">\n",
              "  <thead>\n",
              "    <tr style=\"text-align: right;\">\n",
              "      <th></th>\n",
              "      <th>Produkt_Code</th>\n",
              "      <th>SDO_ID</th>\n",
              "      <th>Zeitstempel</th>\n",
              "      <th>Wert</th>\n",
              "    </tr>\n",
              "  </thead>\n",
              "  <tbody>\n",
              "    <tr>\n",
              "      <th>0</th>\n",
              "      <td>OBS_DEU_P1D_T2M</td>\n",
              "      <td>1001</td>\n",
              "      <td>2014-01-20</td>\n",
              "      <td>-1.2</td>\n",
              "    </tr>\n",
              "    <tr>\n",
              "      <th>1</th>\n",
              "      <td>OBS_DEU_P1D_T2M</td>\n",
              "      <td>1001</td>\n",
              "      <td>2014-01-21</td>\n",
              "      <td>-2.0</td>\n",
              "    </tr>\n",
              "    <tr>\n",
              "      <th>2</th>\n",
              "      <td>OBS_DEU_P1D_T2M</td>\n",
              "      <td>1001</td>\n",
              "      <td>2014-01-22</td>\n",
              "      <td>-4.4</td>\n",
              "    </tr>\n",
              "    <tr>\n",
              "      <th>3</th>\n",
              "      <td>OBS_DEU_P1D_T2M</td>\n",
              "      <td>1001</td>\n",
              "      <td>2014-01-23</td>\n",
              "      <td>-4.5</td>\n",
              "    </tr>\n",
              "    <tr>\n",
              "      <th>4</th>\n",
              "      <td>OBS_DEU_P1D_T2M</td>\n",
              "      <td>1001</td>\n",
              "      <td>2014-01-24</td>\n",
              "      <td>-5.3</td>\n",
              "    </tr>\n",
              "  </tbody>\n",
              "</table>\n",
              "</div>"
            ],
            "text/plain": [
              "      Produkt_Code  SDO_ID Zeitstempel  Wert\n",
              "0  OBS_DEU_P1D_T2M    1001  2014-01-20  -1.2\n",
              "1  OBS_DEU_P1D_T2M    1001  2014-01-21  -2.0\n",
              "2  OBS_DEU_P1D_T2M    1001  2014-01-22  -4.4\n",
              "3  OBS_DEU_P1D_T2M    1001  2014-01-23  -4.5\n",
              "4  OBS_DEU_P1D_T2M    1001  2014-01-24  -5.3"
            ]
          },
          "execution_count": 2,
          "metadata": {},
          "output_type": "execute_result"
        }
      ],
      "source": [
        "# Importiere die .csv-Datei mit den Klimadaten\n",
        "df = pd.read_csv('https://drive.usercontent.google.com/download?id=1tlQzndBEkJD_Fj5kCEomL-xmpoQXK_BN&export=download&authuser=0&confirm=t&uuid=b41f20b9-68fd-49b4-88eb-0af99df5b837&at=APZUnTVx-x43A7E70nO-jtsXvIv7:1705859761496', index_col=False)\n",
        "\n",
        "# Wegwerfen der Spalten die wir nicht benötigen\n",
        "df = df.drop(['Qualitaet_Byte', 'Qualitaet_Niveau'], axis=1)\n",
        "\n",
        "df.head()"
      ]
    },
    {
      "cell_type": "markdown",
      "metadata": {},
      "source": [
        "### ▶️ Einlesen der Produkt-Daten vom CDC-Portal des DWD"
      ]
    },
    {
      "cell_type": "code",
      "execution_count": 5,
      "metadata": {},
      "outputs": [
        {
          "data": {
            "text/html": [
              "<div>\n",
              "<style scoped>\n",
              "    .dataframe tbody tr th:only-of-type {\n",
              "        vertical-align: middle;\n",
              "    }\n",
              "\n",
              "    .dataframe tbody tr th {\n",
              "        vertical-align: top;\n",
              "    }\n",
              "\n",
              "    .dataframe thead th {\n",
              "        text-align: right;\n",
              "    }\n",
              "</style>\n",
              "<table border=\"1\" class=\"dataframe\">\n",
              "  <thead>\n",
              "    <tr style=\"text-align: right;\">\n",
              "      <th></th>\n",
              "      <th>Produkt_Code</th>\n",
              "      <th>Produkt_Titel</th>\n",
              "      <th>Einheit</th>\n",
              "    </tr>\n",
              "  </thead>\n",
              "  <tbody>\n",
              "    <tr>\n",
              "      <th>0</th>\n",
              "      <td>OBS_DEU_P1D_T2M</td>\n",
              "      <td>Daily station observations of mean temperature...</td>\n",
              "      <td>°C</td>\n",
              "    </tr>\n",
              "    <tr>\n",
              "      <th>1</th>\n",
              "      <td>OBS_DEU_P1D_SD</td>\n",
              "      <td>Daily station observations of sunshine duratio...</td>\n",
              "      <td>hours</td>\n",
              "    </tr>\n",
              "    <tr>\n",
              "      <th>2</th>\n",
              "      <td>OBS_DEU_P1D_F</td>\n",
              "      <td>Daily mean of station observations of wind spe...</td>\n",
              "      <td>m/s</td>\n",
              "    </tr>\n",
              "  </tbody>\n",
              "</table>\n",
              "</div>"
            ],
            "text/plain": [
              "      Produkt_Code                                      Produkt_Titel Einheit\n",
              "0  OBS_DEU_P1D_T2M  Daily station observations of mean temperature...      °C\n",
              "1   OBS_DEU_P1D_SD  Daily station observations of sunshine duratio...   hours\n",
              "2    OBS_DEU_P1D_F  Daily mean of station observations of wind spe...     m/s"
            ]
          },
          "execution_count": 5,
          "metadata": {},
          "output_type": "execute_result"
        }
      ],
      "source": [
        "# Importiere die .csv-Datei mit den Product-Codes\n",
        "product_code_df = pd.read_csv('https://drive.usercontent.google.com/download?id=1x3jq_1aPlRzA_BFhAJLscwHhcOIr9bFE&export=download&authuser=0&confirm=t&uuid=48d5f250-f61c-4c21-92e3-d25ac6ac1fa9&at=APZUnTWD9Vm9_MSZKZ3uCHNAJuSw:1705860136098', index_col=False)\n",
        "\n",
        "# Wegwerfen der Spalten die wir nicht benötigen\n",
        "product_code_df = product_code_df.drop(['Beschreibung_DWD', 'Beschreibung_Inspire'], axis=1)\n",
        "\n",
        "product_code_df.head()"
      ]
    },
    {
      "cell_type": "markdown",
      "metadata": {
        "id": "FpaGKKV0dHxi"
      },
      "source": [
        "### ▶️ Einlesen der Stations-Daten vom CDC-Portal des DWD"
      ]
    },
    {
      "cell_type": "code",
      "execution_count": 4,
      "metadata": {
        "colab": {
          "base_uri": "https://localhost:8080/",
          "height": 112
        },
        "id": "ylgcWIWQdoWC",
        "outputId": "1871ae99-168e-46df-90d5-b91758eada45"
      },
      "outputs": [
        {
          "data": {
            "text/html": [
              "<div>\n",
              "<style scoped>\n",
              "    .dataframe tbody tr th:only-of-type {\n",
              "        vertical-align: middle;\n",
              "    }\n",
              "\n",
              "    .dataframe tbody tr th {\n",
              "        vertical-align: top;\n",
              "    }\n",
              "\n",
              "    .dataframe thead th {\n",
              "        text-align: right;\n",
              "    }\n",
              "</style>\n",
              "<table border=\"1\" class=\"dataframe\">\n",
              "  <thead>\n",
              "    <tr style=\"text-align: right;\">\n",
              "      <th></th>\n",
              "      <th>SDO_ID</th>\n",
              "      <th>SDO_Name</th>\n",
              "    </tr>\n",
              "  </thead>\n",
              "  <tbody>\n",
              "    <tr>\n",
              "      <th>0</th>\n",
              "      <td>4094</td>\n",
              "      <td>Weingarten, Kr. Ravensburg</td>\n",
              "    </tr>\n",
              "    <tr>\n",
              "      <th>1</th>\n",
              "      <td>5344</td>\n",
              "      <td>Wangerooge</td>\n",
              "    </tr>\n",
              "    <tr>\n",
              "      <th>2</th>\n",
              "      <td>3519</td>\n",
              "      <td>Neuhausen ob Eck-Unterschwandorf</td>\n",
              "    </tr>\n",
              "    <tr>\n",
              "      <th>3</th>\n",
              "      <td>5138</td>\n",
              "      <td>Überlingen/Bodensee</td>\n",
              "    </tr>\n",
              "    <tr>\n",
              "      <th>4</th>\n",
              "      <td>2949</td>\n",
              "      <td>Lenningen-Schopfloch</td>\n",
              "    </tr>\n",
              "  </tbody>\n",
              "</table>\n",
              "</div>"
            ],
            "text/plain": [
              "   SDO_ID                          SDO_Name\n",
              "0    4094        Weingarten, Kr. Ravensburg\n",
              "1    5344                        Wangerooge\n",
              "2    3519  Neuhausen ob Eck-Unterschwandorf\n",
              "3    5138               Überlingen/Bodensee\n",
              "4    2949              Lenningen-Schopfloch"
            ]
          },
          "execution_count": 4,
          "metadata": {},
          "output_type": "execute_result"
        }
      ],
      "source": [
        "# Importiere die .csv-Datei mit den Stations-Daten\n",
        "station_names_df = pd.read_csv('https://drive.usercontent.google.com/download?id=1HIFVsyLWmV3v6jus58iXCs92uSjgnOvl&export=download&authuser=0&confirm=t&uuid=02d0dc40-5d2e-497a-9274-8685535c7320&at=APZUnTVn6JIdmUOXhFBM6td5waG-:1705860690866', index_col=False)\n",
        "\n",
        "# Wegwerfen der Spalten die wir nicht benötigen\n",
        "station_names_df = station_names_df.drop(['Geogr_Laenge', 'Geogr_Breite', 'Hoehe_ueber_NN', 'Metadata_Link'], axis=1)\n",
        "\n",
        "station_names_df.head()"
      ]
    },
    {
      "cell_type": "markdown",
      "metadata": {
        "id": "UlCHsa_nem96"
      },
      "source": [
        "### ▶️ Zusammenfassung der drei Datensätze zu einem"
      ]
    },
    {
      "cell_type": "code",
      "execution_count": 6,
      "metadata": {
        "colab": {
          "base_uri": "https://localhost:8080/",
          "height": 112
        },
        "id": "9rCXHEkPfecE",
        "outputId": "46b16c3a-f54d-4c97-ee83-888417082790"
      },
      "outputs": [
        {
          "data": {
            "text/html": [
              "<div>\n",
              "<style scoped>\n",
              "    .dataframe tbody tr th:only-of-type {\n",
              "        vertical-align: middle;\n",
              "    }\n",
              "\n",
              "    .dataframe tbody tr th {\n",
              "        vertical-align: top;\n",
              "    }\n",
              "\n",
              "    .dataframe thead th {\n",
              "        text-align: right;\n",
              "    }\n",
              "</style>\n",
              "<table border=\"1\" class=\"dataframe\">\n",
              "  <thead>\n",
              "    <tr style=\"text-align: right;\">\n",
              "      <th></th>\n",
              "      <th>Zeitstempel</th>\n",
              "      <th>Wert</th>\n",
              "      <th>Produkt_Titel</th>\n",
              "      <th>SDO_Name</th>\n",
              "    </tr>\n",
              "  </thead>\n",
              "  <tbody>\n",
              "    <tr>\n",
              "      <th>0</th>\n",
              "      <td>2014-01-20</td>\n",
              "      <td>-1.2</td>\n",
              "      <td>Daily station observations of mean temperature...</td>\n",
              "      <td>Doberlug-Kirchhain</td>\n",
              "    </tr>\n",
              "    <tr>\n",
              "      <th>1</th>\n",
              "      <td>2014-01-21</td>\n",
              "      <td>-2.0</td>\n",
              "      <td>Daily station observations of mean temperature...</td>\n",
              "      <td>Doberlug-Kirchhain</td>\n",
              "    </tr>\n",
              "    <tr>\n",
              "      <th>2</th>\n",
              "      <td>2014-01-22</td>\n",
              "      <td>-4.4</td>\n",
              "      <td>Daily station observations of mean temperature...</td>\n",
              "      <td>Doberlug-Kirchhain</td>\n",
              "    </tr>\n",
              "    <tr>\n",
              "      <th>3</th>\n",
              "      <td>2014-01-23</td>\n",
              "      <td>-4.5</td>\n",
              "      <td>Daily station observations of mean temperature...</td>\n",
              "      <td>Doberlug-Kirchhain</td>\n",
              "    </tr>\n",
              "    <tr>\n",
              "      <th>4</th>\n",
              "      <td>2014-01-24</td>\n",
              "      <td>-5.3</td>\n",
              "      <td>Daily station observations of mean temperature...</td>\n",
              "      <td>Doberlug-Kirchhain</td>\n",
              "    </tr>\n",
              "  </tbody>\n",
              "</table>\n",
              "</div>"
            ],
            "text/plain": [
              "  Zeitstempel  Wert                                      Produkt_Titel  \\\n",
              "0  2014-01-20  -1.2  Daily station observations of mean temperature...   \n",
              "1  2014-01-21  -2.0  Daily station observations of mean temperature...   \n",
              "2  2014-01-22  -4.4  Daily station observations of mean temperature...   \n",
              "3  2014-01-23  -4.5  Daily station observations of mean temperature...   \n",
              "4  2014-01-24  -5.3  Daily station observations of mean temperature...   \n",
              "\n",
              "             SDO_Name  \n",
              "0  Doberlug-Kirchhain  \n",
              "1  Doberlug-Kirchhain  \n",
              "2  Doberlug-Kirchhain  \n",
              "3  Doberlug-Kirchhain  \n",
              "4  Doberlug-Kirchhain  "
            ]
          },
          "execution_count": 6,
          "metadata": {},
          "output_type": "execute_result"
        }
      ],
      "source": [
        "# Zusammenfassung von Klimadaten und Productcodes anhand der Productcodes\n",
        "df1 = pd.merge(df, product_code_df, on='Produkt_Code')\n",
        "\n",
        "# Zusammenfassung des vorigen Schrittes und Stations-Daten anhand der Stations-ID\n",
        "df1 = pd.merge(df1, station_names_df, on='SDO_ID')\n",
        "\n",
        "# Nach der Zusammenfassung können wir ein paar Spalten wegwerfen\n",
        "df1 = df1.drop(['Produkt_Code', 'SDO_ID', 'Einheit'], axis=1)\n",
        "\n",
        "# Als Ergebnis erhalten wir ein Data-Frame mit besser lesbaren Inhalten\n",
        "df1.head()"
      ]
    },
    {
      "cell_type": "markdown",
      "metadata": {
        "id": "bqtb_0qsqcBe"
      },
      "source": [
        "### ▶️ Für die weitere Verarbeitung müssen wir unsere Datentypen prüfen"
      ]
    },
    {
      "cell_type": "code",
      "execution_count": 7,
      "metadata": {
        "colab": {
          "base_uri": "https://localhost:8080/"
        },
        "id": "wkE318CuqruZ",
        "outputId": "80b11002-44b4-4019-c983-05a729ffe78c"
      },
      "outputs": [
        {
          "name": "stdout",
          "output_type": "stream",
          "text": [
            "<class 'pandas.core.frame.DataFrame'>\n",
            "Int64Index: 3861377 entries, 0 to 3861376\n",
            "Data columns (total 4 columns):\n",
            " #   Column         Dtype  \n",
            "---  ------         -----  \n",
            " 0   Zeitstempel    object \n",
            " 1   Wert           float64\n",
            " 2   Produkt_Titel  object \n",
            " 3   SDO_Name       object \n",
            "dtypes: float64(1), object(3)\n",
            "memory usage: 147.3+ MB\n"
          ]
        }
      ],
      "source": [
        "df1.info()"
      ]
    },
    {
      "cell_type": "markdown",
      "metadata": {
        "id": "NBykkdmbrPcG"
      },
      "source": [
        "### ▶️ Wir sehen drei Datentypen vom Typ \"object\". Dies müssen wir ändern.\n",
        "- Wir benennen die Spalte \"SDO_Name\" um in \"Station\"\n",
        "- Wir konvertieren die Spalte \"Zeitstempel\" in das DateTime-Format\n",
        "- Wir konvertieren die Spalte \"Station\" in das String-Format\n",
        "- Wir konvertieren die Spalte \"Produkt_Titel\" ind das String-Format"
      ]
    },
    {
      "cell_type": "code",
      "execution_count": 8,
      "metadata": {
        "colab": {
          "base_uri": "https://localhost:8080/",
          "height": 423
        },
        "id": "SguTQ64ur82Y",
        "outputId": "30778bb1-f329-4335-f1af-850a82daee5c"
      },
      "outputs": [
        {
          "name": "stdout",
          "output_type": "stream",
          "text": [
            "<class 'pandas.core.frame.DataFrame'>\n",
            "Int64Index: 3861377 entries, 0 to 3861376\n",
            "Data columns (total 4 columns):\n",
            " #   Column       Dtype         \n",
            "---  ------       -----         \n",
            " 0   Zeitstempel  datetime64[ns]\n",
            " 1   Wert         float64       \n",
            " 2   Kategorie    string        \n",
            " 3   Station      string        \n",
            "dtypes: datetime64[ns](1), float64(1), string(2)\n",
            "memory usage: 147.3 MB\n"
          ]
        }
      ],
      "source": [
        "# Umbenennen von \"SDO_Name\" in \"Station\"\n",
        "df1.columns = ['Zeitstempel', 'Wert', 'Kategorie', 'Station']\n",
        "\n",
        "# Konvertieren von \"Zeitstempel\" nach dateTime\n",
        "df1['Zeitstempel'] = pd.to_datetime(df1.Zeitstempel)\n",
        "\n",
        "# Konvertieren von \"Station\" nach String\n",
        "df1['Station'] = df1['Station'].astype(\"string\")\n",
        "\n",
        "# Konvertieren von \"Produkt_Titel\" nach String\n",
        "df1['Kategorie'] = df1['Kategorie'].astype(\"string\")\n",
        "\n",
        "df1.info()"
      ]
    },
    {
      "cell_type": "markdown",
      "metadata": {},
      "source": [
        "### ▶️ Umbennen der **Inhalte** der Spalte \"Kategorie\" zwecks besserer Lesbarkeit"
      ]
    },
    {
      "cell_type": "code",
      "execution_count": 9,
      "metadata": {
        "id": "hKYDX19s1oH3"
      },
      "outputs": [
        {
          "data": {
            "text/html": [
              "<div>\n",
              "<style scoped>\n",
              "    .dataframe tbody tr th:only-of-type {\n",
              "        vertical-align: middle;\n",
              "    }\n",
              "\n",
              "    .dataframe tbody tr th {\n",
              "        vertical-align: top;\n",
              "    }\n",
              "\n",
              "    .dataframe thead th {\n",
              "        text-align: right;\n",
              "    }\n",
              "</style>\n",
              "<table border=\"1\" class=\"dataframe\">\n",
              "  <thead>\n",
              "    <tr style=\"text-align: right;\">\n",
              "      <th></th>\n",
              "      <th>Zeitstempel</th>\n",
              "      <th>Wert</th>\n",
              "      <th>Kategorie</th>\n",
              "      <th>Station</th>\n",
              "    </tr>\n",
              "  </thead>\n",
              "  <tbody>\n",
              "    <tr>\n",
              "      <th>0</th>\n",
              "      <td>2014-01-20</td>\n",
              "      <td>-1.2</td>\n",
              "      <td>Mittlere Temperatur</td>\n",
              "      <td>Doberlug-Kirchhain</td>\n",
              "    </tr>\n",
              "    <tr>\n",
              "      <th>1</th>\n",
              "      <td>2014-01-21</td>\n",
              "      <td>-2.0</td>\n",
              "      <td>Mittlere Temperatur</td>\n",
              "      <td>Doberlug-Kirchhain</td>\n",
              "    </tr>\n",
              "    <tr>\n",
              "      <th>2</th>\n",
              "      <td>2014-01-22</td>\n",
              "      <td>-4.4</td>\n",
              "      <td>Mittlere Temperatur</td>\n",
              "      <td>Doberlug-Kirchhain</td>\n",
              "    </tr>\n",
              "    <tr>\n",
              "      <th>3</th>\n",
              "      <td>2014-01-23</td>\n",
              "      <td>-4.5</td>\n",
              "      <td>Mittlere Temperatur</td>\n",
              "      <td>Doberlug-Kirchhain</td>\n",
              "    </tr>\n",
              "    <tr>\n",
              "      <th>4</th>\n",
              "      <td>2014-01-24</td>\n",
              "      <td>-5.3</td>\n",
              "      <td>Mittlere Temperatur</td>\n",
              "      <td>Doberlug-Kirchhain</td>\n",
              "    </tr>\n",
              "  </tbody>\n",
              "</table>\n",
              "</div>"
            ],
            "text/plain": [
              "  Zeitstempel  Wert            Kategorie             Station\n",
              "0  2014-01-20  -1.2  Mittlere Temperatur  Doberlug-Kirchhain\n",
              "1  2014-01-21  -2.0  Mittlere Temperatur  Doberlug-Kirchhain\n",
              "2  2014-01-22  -4.4  Mittlere Temperatur  Doberlug-Kirchhain\n",
              "3  2014-01-23  -4.5  Mittlere Temperatur  Doberlug-Kirchhain\n",
              "4  2014-01-24  -5.3  Mittlere Temperatur  Doberlug-Kirchhain"
            ]
          },
          "execution_count": 9,
          "metadata": {},
          "output_type": "execute_result"
        }
      ],
      "source": [
        "# Zeige volle Spalten an\n",
        "pd.set_option('display.max_colwidth', None)\n",
        "\n",
        "# Alles in \"Messreihe\" gemäß Ausdruck umbennen in Sonnenscheindauer\n",
        "df1['Kategorie'] = df1['Kategorie'].str.replace(\"Daily station observations of sunshine duration in hours\", \"Sonnenscheindauer\", regex=False)\n",
        "\n",
        "###########################\n",
        "\n",
        "# Alles in \"Messreihe\" gemäß Ausdruck umbennen in Mittlere Temperatur\n",
        "df1['Kategorie'] = df1['Kategorie'].str.replace(\"Daily station observations of mean temperature at 2 m above ground in °C\", \"Mittlere Temperatur\", regex=False)\n",
        "\n",
        "###########################\n",
        "\n",
        "# Alles in \"Messreihe\" gemäß Ausdruck umbennen in Windgeschwindigkeit\n",
        "df1['Kategorie'] = df1['Kategorie'].str.replace(\"Daily mean of station observations of wind speed at ca. 10 m above ground in m/s\", \"Windgeschwindigkeit\", regex=False)\n",
        "\n",
        "df1.head()"
      ]
    },
    {
      "cell_type": "markdown",
      "metadata": {},
      "source": [
        "### ▶️ Unser Datensatz ist nun bestens vorbereitet für die Daten-Analyse\n",
        "\n",
        "\n",
        "---\n",
        "- Hier ⚠️[Klick mich](./Data-Analysis.ipynb)⚠️ geht es weiter!\n",
        "---\n",
        "- Das Anaylse-Notebook lädt den vorbereiteten Datensatz vom Google Drive\n"
      ]
    }
  ],
  "metadata": {
    "colab": {
      "authorship_tag": "ABX9TyNuAXIB7ixK/3gtqh86Wo2I",
      "include_colab_link": true,
      "provenance": []
    },
    "kernelspec": {
      "display_name": "Python 3",
      "name": "python3"
    },
    "language_info": {
      "codemirror_mode": {
        "name": "ipython",
        "version": 3
      },
      "file_extension": ".py",
      "mimetype": "text/x-python",
      "name": "python",
      "nbconvert_exporter": "python",
      "pygments_lexer": "ipython3",
      "version": "3.11.3"
    }
  },
  "nbformat": 4,
  "nbformat_minor": 0
}
