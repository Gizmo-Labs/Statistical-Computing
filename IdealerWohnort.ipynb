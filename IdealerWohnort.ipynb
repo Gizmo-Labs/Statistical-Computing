{
  "nbformat": 4,
  "nbformat_minor": 0,
  "metadata": {
    "colab": {
      "provenance": [],
      "toc_visible": true,
      "authorship_tag": "ABX9TyP+wNOG0WHWCQsEz9z82Wjy",
      "include_colab_link": true
    },
    "kernelspec": {
      "name": "python3",
      "display_name": "Python 3"
    },
    "language_info": {
      "name": "python"
    }
  },
  "cells": [
    {
      "cell_type": "markdown",
      "source": [
        "# Statistical Computing - Capstone Project\n",
        "\n",
        "## Explorative Data Analysis"
      ],
      "metadata": {
        "id": "qc_w7_J8R6mi"
      }
    }
  ]
}
